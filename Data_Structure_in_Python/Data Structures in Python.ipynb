{
 "cells": [
  {
   "cell_type": "markdown",
   "metadata": {},
   "source": [
    "Q.1: Wrtie a code to reverse a String."
   ]
  },
  {
   "cell_type": "code",
   "execution_count": 5,
   "metadata": {},
   "outputs": [
    {
     "data": {
      "text/plain": [
       "'I want to be a Data Scientist'"
      ]
     },
     "execution_count": 5,
     "metadata": {},
     "output_type": "execute_result"
    }
   ],
   "source": [
    "str=\"tsitneicS ataD a eb ot tnaw I\"\n",
    "str[ : : -1]  "
   ]
  },
  {
   "cell_type": "markdown",
   "metadata": {},
   "source": [
    "Q.2: Write a code to count the number of vowels in a string."
   ]
  },
  {
   "cell_type": "code",
   "execution_count": 6,
   "metadata": {},
   "outputs": [
    {
     "name": "stdout",
     "output_type": "stream",
     "text": [
      "total number of vowels in given string is 32\n"
     ]
    }
   ],
   "source": [
    "str=\"My name is Saurabh verma, for now I'm enrolled in Data Science with Generative AI provided by PWskills\"\n",
    "str=str.lower()\n",
    "count=0\n",
    "for vowels in str:\n",
    "    if (\"a\"== vowels or \"e\" == vowels or \"i\" == vowels or \"o\" == vowels or \"u\" == vowels ):\n",
    "        count += 1\n",
    "print(f\"total number of vowels in given string is {count}\")\n"
   ]
  },
  {
   "cell_type": "markdown",
   "metadata": {},
   "source": [
    "Q.3: Write a code to chech if a given String is palindrome or not?"
   ]
  },
  {
   "cell_type": "code",
   "execution_count": 83,
   "metadata": {},
   "outputs": [
    {
     "name": "stdout",
     "output_type": "stream",
     "text": [
      "String is palindrome!\n"
     ]
    }
   ],
   "source": [
    "str1=\"Naman\"\n",
    "str1=str1.lower()\n",
    "revStr=str1[::-1] #Reverse of String \n",
    "if str1 == revStr:\n",
    "    print(\"String is palindrome!\")\n",
    "else:\n",
    "    print(\"String is not palindorme!\")"
   ]
  },
  {
   "cell_type": "markdown",
   "metadata": {},
   "source": [
    "Q.4: Write a code to chech if a given String is anagram or not?"
   ]
  },
  {
   "cell_type": "code",
   "execution_count": 84,
   "metadata": {},
   "outputs": [
    {
     "name": "stdout",
     "output_type": "stream",
     "text": [
      "String is anagram\n"
     ]
    }
   ],
   "source": [
    "str1=\"Heart\"\n",
    "str2=\"Earth\"\n",
    "str1=sorted(str1.lower())\n",
    "str2=sorted(str2.lower())\n",
    "if str1==str2:\n",
    "    print(\"String is anagram\")\n",
    "else :\n",
    "    print(\"String is not a anagram\")\n"
   ]
  },
  {
   "cell_type": "markdown",
   "metadata": {},
   "source": [
    "Q.5: Write a code to find all occurrences of a given substring within another string."
   ]
  },
  {
   "cell_type": "code",
   "execution_count": 9,
   "metadata": {},
   "outputs": [
    {
     "name": "stdout",
     "output_type": "stream",
     "text": [
      "String:- aaa aaa aaa aaa\n",
      "Substring:- aaa\n"
     ]
    },
    {
     "data": {
      "text/plain": [
       "'Total occurane of sub string: 4'"
      ]
     },
     "execution_count": 9,
     "metadata": {},
     "output_type": "execute_result"
    }
   ],
   "source": [
    "str=input(\"Enter string\")\n",
    "subStr=input(\"Enter substring\")\n",
    "print(\"String:-\", str)\n",
    "print(\"Substring:-\", subStr)\n",
    "f\"Total occurane of sub string: {str.lower().count(subStr.lower())}\"\n"
   ]
  },
  {
   "cell_type": "markdown",
   "metadata": {},
   "source": [
    "Q.6 Write a code to perform basic string compression using the count of repeated characters."
   ]
  },
  {
   "cell_type": "code",
   "execution_count": 3,
   "metadata": {},
   "outputs": [
    {
     "data": {
      "text/plain": [
       "\"compressed string: 'a5b2c4d2e3f8'\""
      ]
     },
     "execution_count": 3,
     "metadata": {},
     "output_type": "execute_result"
    }
   ],
   "source": [
    "str=\"aaaaabbccccddeeeffffffff\"\n",
    "a=str.count(\"a\")\n",
    "b=str.count(\"b\")\n",
    "c=str.count(\"c\")\n",
    "d=str.count(\"d\")\n",
    "e=str.count(\"e\")\n",
    "f=str.count(\"f\")\n",
    "f\"compressed string: 'a{a}b{b}c{c}d{d}e{e}f{f}'\""
   ]
  },
  {
   "cell_type": "markdown",
   "metadata": {},
   "source": [
    "Q.7 Write a code to determine if a string has all unique characters."
   ]
  },
  {
   "cell_type": "code",
   "execution_count": 86,
   "metadata": {},
   "outputs": [
    {
     "name": "stdout",
     "output_type": "stream",
     "text": [
      "present\n"
     ]
    }
   ],
   "source": [
    "str=\"ram@gmail.com\"\n",
    "if \"@\" and \".\" or \",\" in str:\n",
    "    print(\"present\")\n",
    "else:\n",
    "    print(\"is not present\")"
   ]
  },
  {
   "cell_type": "markdown",
   "metadata": {},
   "source": [
    "Q.8: Write a code to convert a given string to uppercase or lowercase."
   ]
  },
  {
   "cell_type": "code",
   "execution_count": 87,
   "metadata": {},
   "outputs": [
    {
     "data": {
      "text/plain": [
       "'hjk'"
      ]
     },
     "execution_count": 87,
     "metadata": {},
     "output_type": "execute_result"
    }
   ],
   "source": [
    "str=input(\"Enter string\")\n",
    "str.lower() #lowercase"
   ]
  },
  {
   "cell_type": "code",
   "execution_count": 88,
   "metadata": {},
   "outputs": [
    {
     "data": {
      "text/plain": [
       "'HJK'"
      ]
     },
     "execution_count": 88,
     "metadata": {},
     "output_type": "execute_result"
    }
   ],
   "source": [
    "str.upper() #uppercase"
   ]
  },
  {
   "cell_type": "markdown",
   "metadata": {},
   "source": [
    "Q.9: Write a code to count number of words in a string."
   ]
  },
  {
   "cell_type": "code",
   "execution_count": 10,
   "metadata": {},
   "outputs": [
    {
     "data": {
      "text/plain": [
       "'Number of words:5'"
      ]
     },
     "execution_count": 10,
     "metadata": {},
     "output_type": "execute_result"
    }
   ],
   "source": [
    "str=input(\"Enter String\")\n",
    "words=str.count(\" \") + 1\n",
    "f\"Number of words:{words}\"\n"
   ]
  },
  {
   "cell_type": "markdown",
   "metadata": {},
   "source": [
    "Q.10: Write a code to concatenate to strings without using the + operator."
   ]
  },
  {
   "cell_type": "code",
   "execution_count": 11,
   "metadata": {},
   "outputs": [
    {
     "data": {
      "text/plain": [
       "'RamShyam'"
      ]
     },
     "execution_count": 11,
     "metadata": {},
     "output_type": "execute_result"
    }
   ],
   "source": [
    "str1=\"Ram\"\n",
    "str2=\"Shyam\"\n",
    "conStr=\"{}{}\"\n",
    "conStr.format(str1,str2)\n"
   ]
  },
  {
   "cell_type": "markdown",
   "metadata": {},
   "source": [
    "Q.11: Write a code to remove all the occurrences of a specific element from a list."
   ]
  },
  {
   "cell_type": "code",
   "execution_count": 1,
   "metadata": {},
   "outputs": [
    {
     "data": {
      "text/plain": [
       "['Ram', 'Shyam', 'Raghav', 'Krishna']"
      ]
     },
     "execution_count": 1,
     "metadata": {},
     "output_type": "execute_result"
    }
   ],
   "source": [
    "list=[\"Ram\", \"Shyam\", \"Ravan\" ,\"Raghav\" ,\"Krishna\", \"Ravan\"]\n",
    "specific_element=\"Ravan\"\n",
    "while specific_element in list:\n",
    "    list.remove(specific_element)\n",
    "list\n"
   ]
  },
  {
   "cell_type": "markdown",
   "metadata": {},
   "source": [
    "Q.12: Implement a code to fine the second largest number in given lsit of integer."
   ]
  },
  {
   "cell_type": "code",
   "execution_count": 2,
   "metadata": {},
   "outputs": [
    {
     "data": {
      "text/plain": [
       "24"
      ]
     },
     "execution_count": 2,
     "metadata": {},
     "output_type": "execute_result"
    }
   ],
   "source": [
    "list=[12,8,24,48,3,14]\n",
    "list.sort()\n",
    "list[-2]\n"
   ]
  },
  {
   "cell_type": "markdown",
   "metadata": {},
   "source": [
    "Q.13 Create a code to count the occurrences of each element in a list and return a dictionary  with elements as key value pairs."
   ]
  },
  {
   "cell_type": "code",
   "execution_count": 108,
   "metadata": {},
   "outputs": [
    {
     "data": {
      "text/plain": [
       "{'Banana': 2, 'Orange': 2, 'Lichi': 2, 'graphs': 1, 'Guava': 2}"
      ]
     },
     "execution_count": 108,
     "metadata": {},
     "output_type": "execute_result"
    }
   ],
   "source": [
    "fruits=['Banana','Orange', 'Lichi', 'graphs', 'Guava',\"Banana\",\"Orange\", \"Lichi\", \"Guava\"]\n",
    "fruits_dict={}\n",
    "for fruit in fruits:\n",
    "    fruits_dict[fruit]=fruits.count(fruit)\n",
    "fruits_dict\n"
   ]
  },
  {
   "cell_type": "markdown",
   "metadata": {},
   "source": [
    "Q.14: Write a code a reverse a String in-place without using any inbuilt reverse functions.|"
   ]
  },
  {
   "cell_type": "code",
   "execution_count": 128,
   "metadata": {},
   "outputs": [
    {
     "name": "stdout",
     "output_type": "stream",
     "text": [
      "['Banana', 'Orange', 'Lichi', 'graphs', 'Guava', 'Banana', 'Orange', 'Lichi', 'Guava']\n"
     ]
    }
   ],
   "source": [
    "fruits=['ananaB', 'egnarO', 'ihciL', 'shparg', 'avauG', 'ananaB', 'egnarO', 'ihciL', 'avauG']\n",
    "print([fruit[::-1] for fruit in fruits])"
   ]
  },
  {
   "cell_type": "code",
   "execution_count": 127,
   "metadata": {},
   "outputs": [
    {
     "data": {
      "text/plain": [
       "['Banana', 'Orange', 'Lichi', 'graphs', 'Guava']"
      ]
     },
     "execution_count": 127,
     "metadata": {},
     "output_type": "execute_result"
    }
   ],
   "source": [
    "fruits=['Banana','Orange', 'Lichi', 'graphs','Banana', 'Guava',\"Banana\", 'Lichi' ,\"Orange\", \"Lichi\", \"Guava\"]\n",
    "fruits.reverse()\n",
    "for fruit in fruits:\n",
    "    while fruits.count(fruit)>1:\n",
    "        fruits.remove(fruit)\n",
    "fruits.reverse()\n",
    "fruits"
   ]
  },
  {
   "cell_type": "code",
   "execution_count": 138,
   "metadata": {},
   "outputs": [
    {
     "name": "stdout",
     "output_type": "stream",
     "text": [
      "unsorted\n"
     ]
    }
   ],
   "source": [
    "length=int(input(\"Enter number of elements\"))\n",
    "list=[]\n",
    "while length >0:\n",
    "    list.append(input(\"Enter element\"))\n",
    "    length-=1\n",
    "if sorted(list) == list:\n",
    "    print(\"sorted\")\n",
    "else:\n",
    "    print(\"unsorted\")"
   ]
  },
  {
   "cell_type": "markdown",
   "metadata": {},
   "source": [
    "Q.17  Write a code to merge two sorted lists into a single sorted list."
   ]
  },
  {
   "cell_type": "code",
   "execution_count": 142,
   "metadata": {},
   "outputs": [
    {
     "data": {
      "text/plain": [
       "[1, 7, 8, 11, 12, 14, 20, 24, 25, 37, 48, 89, 124]"
      ]
     },
     "execution_count": 142,
     "metadata": {},
     "output_type": "execute_result"
    }
   ],
   "source": [
    "list1=[12,14,48,8,24]\n",
    "list2=[124,1,25,37,20,7,89,11]\n",
    "list1.sort()\n",
    "list2.sort()\n",
    "list1.extend(list2)\n",
    "del list2\n",
    "list1.sort()\n",
    "list1"
   ]
  },
  {
   "cell_type": "markdown",
   "metadata": {},
   "source": [
    "Q.18   Implement a code to find the intesection of two given lists."
   ]
  },
  {
   "cell_type": "code",
   "execution_count": 8,
   "metadata": {},
   "outputs": [
    {
     "data": {
      "text/plain": [
       "['Orange', 'Lichi', 'graphs']"
      ]
     },
     "execution_count": 8,
     "metadata": {},
     "output_type": "execute_result"
    }
   ],
   "source": [
    "list1=['Banana','Orange', 'Lichi', \"graphs\", \"Guava \"]\n",
    "list2=[\"patoto\", \"Orange\",'Lichi', \"Tomato\" ,\"graphs\"]\n",
    "[ i for i in list1 for j in list2 if i==j]\n",
    "\n"
   ]
  },
  {
   "cell_type": "markdown",
   "metadata": {},
   "source": [
    "Q.19 Create a code to find the union of two lists without duplicates."
   ]
  },
  {
   "cell_type": "code",
   "execution_count": 14,
   "metadata": {},
   "outputs": [
    {
     "name": "stdout",
     "output_type": "stream",
     "text": [
      "['Banana', 'Guava ', 'patoto', 'Orange', 'Chukunder', 'Lichi', 'Tomato', 'graphs']\n"
     ]
    }
   ],
   "source": [
    "list1=['Banana','Orange', 'Lichi', \"graphs\", \"Guava \"]\n",
    "list2=[\"patoto\", \"Orange\",\"Chukunder\", 'Lichi', \"Tomato\" ,\"graphs\"]\n",
    "list1.extend(list2)\n",
    "for item in list1:\n",
    "  while list1.count(item) > 1:\n",
    "    list1.remove(item)\n",
    "print(list1)"
   ]
  },
  {
   "cell_type": "markdown",
   "metadata": {},
   "source": [
    "Q.20: Write a code to shuffle a given lit randomly without using an built-in shuffle functions."
   ]
  },
  {
   "cell_type": "code",
   "execution_count": 2,
   "metadata": {},
   "outputs": [
    {
     "data": {
      "text/plain": [
       "['Program', 2, 1, 'Python', 15.9]"
      ]
     },
     "execution_count": 2,
     "metadata": {},
     "output_type": "execute_result"
    }
   ],
   "source": [
    "list1 = [1, 2, \"Python\", \"Program\", 15.9]\n",
    "suffled_list=[]\n",
    "import random\n",
    "while len(suffled_list) != len(list1) :\n",
    "    index=random.randint(0,len(list1)-1)\n",
    "    if list1[index] not in suffled_list:\n",
    "        suffled_list.append(list1[index])\n",
    "suffled_list\n"
   ]
  },
  {
   "cell_type": "markdown",
   "metadata": {},
   "source": [
    "Q.21: Write a code that takes two tupls as input and returns a new tuple containing elements that are common to both input tuples."
   ]
  },
  {
   "cell_type": "code",
   "execution_count": 2,
   "metadata": {},
   "outputs": [
    {
     "name": "stdout",
     "output_type": "stream",
     "text": [
      "First tuple: ('14', '26', '35')\n",
      "Second tuple: ('17', '14', '89', '26', '35', '89')\n",
      "Common tuple: ('14', '26', '35')\n"
     ]
    }
   ],
   "source": [
    "len1=int(input(\"Enter length of first tuple\"))\n",
    "tup1=[]\n",
    "for i in range(len1):\n",
    "    tup1.append(input(\"Enter value\"))\n",
    "tup1=tuple(tup1)\n",
    "len2=int(input(\"Enter length of first tuple\"))\n",
    "tup2=[]\n",
    "for i in range(len2):\n",
    "    tup2.append(input(\"Enter value\"))\n",
    "tup2=tuple(tup2)\n",
    "common_Tup=[]\n",
    "for i in tup1 :\n",
    "    for j in tup2 :\n",
    "        if i== j:\n",
    "            common_Tup.append(i)\n",
    "common_Tup=tuple(common_Tup)\n",
    "print(\"First tuple:\", tup1)\n",
    "print(\"Second tuple:\", tup2)\n",
    "print(\"Common tuple:\", common_Tup)\n"
   ]
  },
  {
   "cell_type": "markdown",
   "metadata": {},
   "source": [
    "Q.22: Create a code that prompts the user to enter two sets of integers separated by spaces. Then, print the intersection of these two sets."
   ]
  },
  {
   "cell_type": "code",
   "execution_count": 11,
   "metadata": {},
   "outputs": [
    {
     "name": "stdout",
     "output_type": "stream",
     "text": [
      "First Set: {'14', '365', '2'}\n",
      "second Set: {'14', '365', '12'}\n",
      "Intersection ofSet: {'14', '365'}\n"
     ]
    }
   ],
   "source": [
    "set1_input=input(\"enter values separated by spaces\")\n",
    "set1=set(set1_input.split(\" \"))\n",
    "set2_input=input(\"enter values separated by spaces\")\n",
    "set2=set(set2_input.split(\" \"))\n",
    "print(\"First Set:\", set1)\n",
    "print(\"second Set:\", set2)\n",
    "print(\"Intersection of Set:\", set1.intersection(set2))\n",
    "\n"
   ]
  },
  {
   "cell_type": "markdown",
   "metadata": {},
   "source": [
    "Q.23: Write a code to concatenate two tuples. The function should take two tuples as input and return a new tuple containing elements from both input tuples."
   ]
  },
  {
   "cell_type": "code",
   "execution_count": 8,
   "metadata": {},
   "outputs": [
    {
     "name": "stdout",
     "output_type": "stream",
     "text": [
      "First tuple: ('Ram', 'lakhman', 'bhrat', '108')\n",
      "second tuple: ('tuger', 'fan', 'site')\n",
      "concatenation of tuple: ('Ram', 'lakhman', 'bhrat', '108', 'tuger', 'fan', 'site')\n"
     ]
    }
   ],
   "source": [
    "data=input(\"Enter element separated by space for first tuple\")\n",
    "tuple1=tuple(map( str ,data.split(\" \")))\n",
    "data=input(\"Enter element separated by space for second tuple\")\n",
    "tuple2=tuple(map(str,data.split(\" \")))\n",
    "def concatinate(tuple1 ,tuple2):\n",
    "    return tuple1+tuple2\n",
    "print(\"First tuple:\", tuple1)\n",
    "print(\"second tuple:\", tuple2)\n",
    "print(\"concatenation of tuple:\", concatinate(tuple1,tuple2 ))\n",
    "\n"
   ]
  },
  {
   "cell_type": "markdown",
   "metadata": {},
   "source": [
    "Q.24:  Develop a code that prompts the user to input two sets of strings. Then, print the elements that are present in the first set but not in the second set."
   ]
  },
  {
   "cell_type": "code",
   "execution_count": 32,
   "metadata": {},
   "outputs": [
    {
     "name": "stdout",
     "output_type": "stream",
     "text": [
      "First Set: {'ram', 'agni', 'veer', 'saurabh'}\n",
      "second Set: {'sachin', 'veer', 'ram', 'raghav', 'ladshmana'}\n",
      "Difference of Set: {'saurabh', 'agni'}\n"
     ]
    }
   ],
   "source": [
    "data=input(\"enter strings seperated by comma\")\n",
    "set1=set(map(str,data.split(\",\")))\n",
    "data=input(\"enter strings seperated by comma\")\n",
    "set2=set(map(str,data.split(\",\")))\n",
    "print(\"First Set:\", set1)\n",
    "print(\"second Set:\", set2)\n",
    "print(\"Difference of Set:\", set1-set2)\n"
   ]
  },
  {
   "cell_type": "markdown",
   "metadata": {},
   "source": [
    "Q.25: Create a code that takes a tuple and two integers as input. The function should return a new tuple containing elements from the original tuple within the specified range of indices."
   ]
  },
  {
   "cell_type": "code",
   "execution_count": 9,
   "metadata": {},
   "outputs": [
    {
     "name": "stdout",
     "output_type": "stream",
     "text": [
      "Tuple: ('ghj', '678h', 'ghj', 'fghn', 'fghyhj', '78', 'ghj7', '-0987')\n",
      "range(2, 5)\n",
      "New tuple: ('ghj', 'fghn', 'fghyhj', '78')\n"
     ]
    }
   ],
   "source": [
    "data=input(\"Enter values seperated by space\")\n",
    "tuple1=tuple(map(str,data.split(\" \")))\n",
    "a=int(input(\"Enter first number.\"))\n",
    "b=int(input(\"Enter second number.\"))\n",
    "new_tuple=[]\n",
    "def tuple_range(tuple1,sRange,eRange):\n",
    "    for i in range(sRange,eRange+1):\n",
    "        new_tuple.append(tuple1[i])\n",
    "    return tuple(new_tuple)\n",
    "print(\"Tuple:\", tuple1)\n",
    "print(f\"range{a,b}\")\n",
    "print(\"New tuple:\",tuple_range(tuple1, a,b))"
   ]
  },
  {
   "cell_type": "markdown",
   "metadata": {},
   "source": [
    "Q.26: Write a code that prompts the user to input two sets of characters. Then print the union of these two sets.\n"
   ]
  },
  {
   "cell_type": "code",
   "execution_count": 12,
   "metadata": {},
   "outputs": [
    {
     "name": "stdout",
     "output_type": "stream",
     "text": [
      "First Set: {'e', 'f', 'd', 'y', 'r', 'g', 'a'}\n",
      "second Set: {'h', 'e', 'f', 'w', 'y', 'n', 'r', 'g', 'i'}\n",
      "Union of Set: {'e', 'f', 'y', 'g', 'i', 'a', 'h', 'd', 'n', 'r', 'w'}\n"
     ]
    }
   ],
   "source": [
    "data=input(\"Enter charachter seperated by comma\")\n",
    "set1=set(map(str,data.split(\",\")))\n",
    "data=input(\"Enter charachter seperated by comma\")\n",
    "set2=set(map(str,data.split(\",\")))\n",
    "print(\"First Set:\", set1)\n",
    "print(\"second Set:\", set2)\n",
    "print(\"Union of Set:\", set1|set2)"
   ]
  },
  {
   "cell_type": "markdown",
   "metadata": {},
   "source": [
    "Q.27: Develop a code that takes a tuple of integers as input. The function should return the maximum and minimum values from the tuple using tuple unpacking."
   ]
  },
  {
   "cell_type": "code",
   "execution_count": 1,
   "metadata": {},
   "outputs": [
    {
     "name": "stdout",
     "output_type": "stream",
     "text": [
      "tuple: (12, 44, 54, 676, 34, 2)\n",
      "maximun number: 676 \n",
      "Minimun number: 2\n"
     ]
    }
   ],
   "source": [
    "data=input(\"Enter the integer value seperated by comma\")\n",
    "tuple1=tuple(map(int, data.split(\",\")))\n",
    "def max_and_min(tuple1):\n",
    "    return max(tuple1), min(tuple1)\n",
    "maximum,minimun=(max_and_min(tuple1))\n",
    "print(f\"tuple: {tuple1}\")\n",
    "print(f\"maximun number: {maximum} \\nMinimun number: {minimun}\")"
   ]
  },
  {
   "cell_type": "markdown",
   "metadata": {},
   "source": [
    "\n",
    "Q.28: Create a code that defines two sets of integers. Then print the union, intersection, and difference of these two sets."
   ]
  },
  {
   "cell_type": "code",
   "execution_count": 10,
   "metadata": {},
   "outputs": [
    {
     "name": "stdout",
     "output_type": "stream",
     "text": [
      "First set: {146, 646, 14523, 12, 45, 14}\n",
      "Second set: {2514, 146, 36, 24, 458, 12}\n",
      "Union of set:{36, 646, 458, 12, 45, 14, 146, 2514, 24, 14523}\n",
      "Intersection of set:{146, 12}\n",
      "Differnece of set:{14523, 45, 646, 14}\n"
     ]
    }
   ],
   "source": [
    "set1={12,45,14,646,14523,146}\n",
    "set2={24,458,12,146,2514,36}\n",
    "def union(set1,set2):\n",
    "    print(f\"Union of set:{set1|set2}\")\n",
    "def intersection(set1,set2):\n",
    "    print(f\"Intersection of set:{set1&set2}\")\n",
    "def differnece(set1,set2):\n",
    "    print(f\"Differnece of set:{set1-set2}\")\n",
    "print(f\"First set: {set1}\")\n",
    "print(f\"Second set: {set2}\")\n",
    "union(set1,set2)\n",
    "intersection(set1,set2)\n",
    "differnece(set1,set2)\n"
   ]
  },
  {
   "cell_type": "markdown",
   "metadata": {},
   "source": [
    "Q.29: Write a code that takes a tuple and an element as input. The function should return the count of occurrences of the given element in the tuple."
   ]
  },
  {
   "cell_type": "code",
   "execution_count": 3,
   "metadata": {},
   "outputs": [
    {
     "name": "stdout",
     "output_type": "stream",
     "text": [
      "tuple: ('Ram', 'lakhan', '87', '99', '67', 'Ram', 'lakhan', 'Ram')\n",
      "Occueance of Ram is: 3\n"
     ]
    }
   ],
   "source": [
    "data=input(\"Enter the Element seperated by comma\")\n",
    "tuple1=tuple(map(str or int, data.split(\",\")))\n",
    "element=input(\"Enter the element\")\n",
    "def occurance_count(tuple1, element):\n",
    "    return tuple1.count(element)\n",
    "print(f\"tuple: {tuple1}\")\n",
    "print(f\"Occueance of {element} is: {occurance_count(tuple1,element)}\")\n"
   ]
  },
  {
   "cell_type": "markdown",
   "metadata": {},
   "source": [
    "\n",
    "Q.30: Develop a code that prompts the user to input two sets of strings. Then print the symmetric difference of these two sets.\n"
   ]
  },
  {
   "cell_type": "code",
   "execution_count": 1,
   "metadata": {},
   "outputs": [
    {
     "name": "stdout",
     "output_type": "stream",
     "text": [
      "First set: {'Shyam', 'lakhan', 'Ram', 'bharat'}\n",
      "Second set: {'Ram', 'site', 'hanuman', 'mata'}\n",
      "Symmetric difference: {'mata', 'site', 'hanuman', 'bharat', 'Shyam', 'lakhan'}\n"
     ]
    }
   ],
   "source": [
    "data=input(\"Enter values seperated by spaces\")\n",
    "set1=set(map(str,data.split(\" \")))\n",
    "data=input(\"Enter values seperated by spaces\")\n",
    "set2=set(map(str,data.split(\" \")))\n",
    "def SymDiffernece(set1,set2):\n",
    "    print(f\"Symmetric difference: {set1^set2}\")\n",
    "print(f\"First set: {set1}\")\n",
    "print(f\"Second set: {set2}\")\n",
    "SymDiffernece(set1,set2)\n"
   ]
  },
  {
   "cell_type": "markdown",
   "metadata": {},
   "source": [
    "Q.31: Write a code that takes a list of words as input and returns a dictionary where the keys are unique words and the values are the frequencies of those words in the input list.\n"
   ]
  },
  {
   "cell_type": "code",
   "execution_count": 2,
   "metadata": {},
   "outputs": [
    {
     "name": "stdout",
     "output_type": "stream",
     "text": [
      "{'fghjk': 2, '5678': 3, 'fghj': 1, 'asdfgh': 1}\n"
     ]
    }
   ],
   "source": [
    "data=input(\"Enter the values seperated by space \")\n",
    "list=list(map(str,data.split(\" \")))\n",
    "def dictCoversion(list):\n",
    "    dict={}\n",
    "    for element in list:\n",
    "        dict[element]=list.count(element)\n",
    "    return dict\n",
    "print(dictCoversion(list))\n"
   ]
  },
  {
   "cell_type": "markdown",
   "metadata": {},
   "source": [
    "Q.32: Write a code that takes two dictionaries as input and merges them into a single dictionary. If there are common keys, the values should be added together."
   ]
  },
  {
   "cell_type": "code",
   "execution_count": 8,
   "metadata": {},
   "outputs": [
    {
     "name": "stdout",
     "output_type": "stream",
     "text": [
      "First Dictionary {'Ram': '15', 'Sita': '36', 'Lakhan': '78'}\n",
      "second Dictionary {'bhrat': '45', 'Ram': '896'}\n",
      "Megerd Dictionary {'Ram': ['15', '896'], 'Sita': '36', 'Lakhan': '78', 'bhrat': '45'}\n"
     ]
    }
   ],
   "source": [
    "elements=int(input(\"Enter number of elements of first dictionary\"))\n",
    "first_dict={}\n",
    "for i in range(elements):\n",
    "    key=input(\"Enter key\")\n",
    "    value= input(\"Enter value\")\n",
    "    first_dict[key]=value\n",
    "elements=int(input(\"Enter the number of elements present in second dictionary\"))\n",
    "second_dict={}\n",
    "for i in range(elements):\n",
    "    key=input(\"Enter key\")\n",
    "    value=input(\"enter value\")\n",
    "    second_dict[key]=value\n",
    "commomn_keys={}\n",
    "print(\"First Dictionary\", first_dict)\n",
    "print(\"second Dictionary\",second_dict)\n",
    "for key1 in first_dict.keys():\n",
    "    list=[]\n",
    "    for key2 in second_dict.keys():\n",
    "        if key1 == key2:\n",
    "            list.append(first_dict[key1])\n",
    "            list.append(second_dict[key2])\n",
    "            commomn_keys[key1]=list\n",
    "first_dict.update(second_dict)\n",
    "first_dict.update(commomn_keys)\n",
    "print(\"Megerd Dictionary\",first_dict)"
   ]
  },
  {
   "cell_type": "markdown",
   "metadata": {},
   "source": [
    "\n",
    "Q.33: Write a code to access a value in a nested dictionary. The function should take the dictionary and a list of keys as input and return the corresponding value. If any of the keys do not exist in the dictionary, the function should return None."
   ]
  },
  {
   "cell_type": "code",
   "execution_count": 1,
   "metadata": {},
   "outputs": [
    {
     "name": "stdout",
     "output_type": "stream",
     "text": [
      "{1: {'name': 'Vijay', 'age': '27', 'gender': 'Male'}, 2: {'name': 'Sandhya', 'age': '22', 'gender': 'Female'}}\n",
      "Accessing the value of nested dictionary:\n",
      "Vijay\n",
      "27\n",
      "Male\n",
      "Sandhya\n",
      "22\n",
      "Female\n"
     ]
    }
   ],
   "source": [
    "#Access a value in a nested dictionary\n",
    "nested_dict={1: {'name': 'Vijay', 'age': '27', 'gender': 'Male'},\n",
    "          2: {'name': 'Sandhya', 'age': '22', 'gender': 'Female'}}\n",
    "print(nested_dict)\n",
    "print(\"Accessing the value of nested dictionary:\")\n",
    "for key1 in nested_dict:\n",
    "    for key2 in nested_dict[key1]:\n",
    "     print(nested_dict[key1][key2])\n"
   ]
  },
  {
   "cell_type": "code",
   "execution_count": 4,
   "metadata": {},
   "outputs": [
    {
     "name": "stdout",
     "output_type": "stream",
     "text": [
      "dictionary: {'name': 'सुरेश', 'age': 28, 'city': 'मुंबई', 'email': 'suresh@example.com'}\n",
      "List of keys: ['gen']\n",
      "Dictionary set of key-value of given keys: None\n"
     ]
    }
   ],
   "source": [
    "#A function should take the dictionary and a list of keys as input and return the corresponding value. If any of the keys do not exist in the dictionary, the function should return None.\n",
    "# dicitonary example is taken from chatGPT-3.5\n",
    "person = {\n",
    "    'name': 'सुरेश',  # Suresh (name)\n",
    "    'age': 28,          # Age\n",
    "    'city': 'मुंबई',     # Mumbai (city)\n",
    "    'email': 'suresh@example.com'  # Email\n",
    "}\n",
    "list_keys =[]\n",
    "elements=int(input(\"Enter number of keys \"))\n",
    "for key in range(elements):\n",
    "    list_keys.append(input(\"Enter key:\"))\n",
    "    \n",
    "\n",
    "def corresponding_value(person, list_keys):\n",
    "    returning_dict={}\n",
    "    flag=-1\n",
    "    for i in list_keys:\n",
    "        if i in person.keys():\n",
    "            returning_dict[i]=person[i]\n",
    "            flag=0\n",
    "    if flag !=0:\n",
    "        return None\n",
    "    else:\n",
    "        return returning_dict\n",
    "\n",
    "data=corresponding_value(person,list_keys)\n",
    "print(f\"dictionary: {person}\")\n",
    "print(f\"List of keys: {list_keys}\")\n",
    "print(f\"Dictionary set of key-value of given keys: {data}\")\n"
   ]
  },
  {
   "cell_type": "markdown",
   "metadata": {},
   "source": [
    "Q.34: Write a code that takes a dictionary as input and returns a sorted version of it based on the values. You can choose whether to sort in ascending or descending order.\n",
    "\n"
   ]
  },
  {
   "cell_type": "code",
   "execution_count": 19,
   "metadata": {},
   "outputs": [
    {
     "name": "stdout",
     "output_type": "stream",
     "text": [
      "input Dictionary: {'name1': 'Ram', 'name2': 'Ayush', 'name3': 'Saurabh', 'name4': 'Zendiya'}\n",
      "Sorted Dict. based on value {'name2': 'Ayush', 'name1': 'Ram', 'name3': 'Saurabh', 'name4': 'Zendiya'}\n"
     ]
    }
   ],
   "source": [
    "element=int(input(\"Enter the number of key-values pairs.\"))\n",
    "input_dict={}\n",
    "for i in range(element):\n",
    "    key=input(\"Enter key:\")\n",
    "    value=input(\"Enter value\")\n",
    "    input_dict[key]=value\n",
    "value_list=[]\n",
    "for key, value in input_dict.items():\n",
    "    value_list.append(value)\n",
    "value_list.sort()\n",
    "sorted_dict={}\n",
    "for i in value_list:\n",
    "    for j in input_dict:\n",
    "        if i==input_dict[j]:\n",
    "            sorted_dict[j]=i\n",
    "print(\"input Dictionary:\", input_dict)\n",
    "print(\"Sorted Dict. based on value:\",sorted_dict)  "
   ]
  },
  {
   "cell_type": "markdown",
   "metadata": {},
   "source": [
    "Q.35: Write a code that inverts a dictionary by swapping keys and values. Ensure that the inverted dictionary correctly handles cases where multiple keys have the same value by storing the keys as a list in the inverted dictionary."
   ]
  },
  {
   "cell_type": "code",
   "execution_count": 4,
   "metadata": {},
   "outputs": [
    {
     "name": "stdout",
     "output_type": "stream",
     "text": [
      "Initial Dictionary: {'abc': 3, 'def': 6, 'ghi': 9, 'jkl': 12, 'mno': 9, 'pqr': 6, 'stu': 3, 'vwx': 0}\n",
      "Inverted Dictionary: {3: ['abc', 'stu'], 6: ['def', 'pqr'], 9: ['ghi', 'mno'], 12: 'jkl', 0: 'vwx'}\n"
     ]
    }
   ],
   "source": [
    "#fucntion for return a list of keys of same values\n",
    "def list_of_keys(value ,dixt):\n",
    "    list=[]\n",
    "    for i in dixt:\n",
    "        if value==dixt[i]:\n",
    "            list.append(i)\n",
    "    return list\n",
    "\n",
    "# function for return a key of value\n",
    "def key_of_value(value, dixt):\n",
    "    for i in dixt:\n",
    "        if value==dixt[i]:\n",
    "            return i\n",
    "    \n",
    "person_info={'abc': 3,\n",
    " 'def': 6,\n",
    " 'ghi': 9,\n",
    " 'jkl': 12,\n",
    " 'mno': 9,\n",
    " 'pqr': 6,\n",
    " 'stu': 3,\n",
    " 'vwx': 0}\n",
    "emp_dict={}\n",
    "list_values=list(person_info.values())\n",
    "for value in list_values:\n",
    "    if list_values.count(value)==1:\n",
    "        emp_dict[value]= key_of_value(value,person_info)\n",
    "    else:\n",
    "        list1=list_of_keys(value,person_info)\n",
    "        emp_dict[value]=list1\n",
    "print(\"Initial Dictionary:\", person_info)\n",
    "print(\"Inverted Dictionary:\", emp_dict)"
   ]
  }
 ],
 "metadata": {
  "kernelspec": {
   "display_name": "Python 3",
   "language": "python",
   "name": "python3"
  },
  "language_info": {
   "codemirror_mode": {
    "name": "ipython",
    "version": 3
   },
   "file_extension": ".py",
   "mimetype": "text/x-python",
   "name": "python",
   "nbconvert_exporter": "python",
   "pygments_lexer": "ipython3",
   "version": "3.11.7"
  }
 },
 "nbformat": 4,
 "nbformat_minor": 2
}
