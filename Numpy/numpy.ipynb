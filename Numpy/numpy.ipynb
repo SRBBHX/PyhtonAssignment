{
 "cells": [
  {
   "cell_type": "code",
   "execution_count": 2,
   "metadata": {},
   "outputs": [],
   "source": [
    "import numpy as np\n",
    "import pandas as pd\n",
    "import numpy.matlib as nm\n",
    "import random"
   ]
  },
  {
   "cell_type": "markdown",
   "metadata": {},
   "source": [
    "1. Create a NumPy array 'arr' of integers from 0 to 5 and print its data type.\n",
    "\n",
    "\n"
   ]
  },
  {
   "cell_type": "code",
   "execution_count": 2,
   "metadata": {},
   "outputs": [
    {
     "name": "stdout",
     "output_type": "stream",
     "text": [
      "Datatype: int32\n"
     ]
    },
    {
     "data": {
      "text/plain": [
       "array([0, 1, 2, 3, 4, 5])"
      ]
     },
     "execution_count": 2,
     "metadata": {},
     "output_type": "execute_result"
    }
   ],
   "source": [
    "arr= np.array([i for i in range(0,6)], dtype= int)\n",
    "print(\"Datatype:\",arr.dtype)\n",
    "arr"
   ]
  },
  {
   "cell_type": "markdown",
   "metadata": {},
   "source": [
    "2. Given a NumPy array 'arr', check if its data type is float64."
   ]
  },
  {
   "cell_type": "code",
   "execution_count": 3,
   "metadata": {},
   "outputs": [
    {
     "name": "stdout",
     "output_type": "stream",
     "text": [
      "float64\n"
     ]
    }
   ],
   "source": [
    "arr = np.array([1.5, 2.6, 3.7])\n",
    "print(arr.dtype)"
   ]
  },
  {
   "cell_type": "markdown",
   "metadata": {},
   "source": [
    "\n",
    "\n",
    "\n",
    "3. Create a NumPy array 'arr' with a data type of complex128 containing three complex numbers.\n",
    "\n"
   ]
  },
  {
   "cell_type": "code",
   "execution_count": 4,
   "metadata": {},
   "outputs": [
    {
     "name": "stdout",
     "output_type": "stream",
     "text": [
      "complex128\n"
     ]
    },
    {
     "data": {
      "text/plain": [
       "array([3.+4.j, 4.-8.j, 7.+2.j])"
      ]
     },
     "execution_count": 4,
     "metadata": {},
     "output_type": "execute_result"
    }
   ],
   "source": [
    "arr=np.array([3+4j,4-8j,7+2j])\n",
    "print(arr.dtype)\n",
    "arr"
   ]
  },
  {
   "cell_type": "markdown",
   "metadata": {},
   "source": [
    "4. Convert an existing NumPy array 'arr' of integers to float32 data type."
   ]
  },
  {
   "cell_type": "code",
   "execution_count": 5,
   "metadata": {},
   "outputs": [
    {
     "name": "stdout",
     "output_type": "stream",
     "text": [
      "Array before conversion:\n",
      "Datatype: int32\n"
     ]
    },
    {
     "data": {
      "text/plain": [
       "array([ 1, 11, 21, 31, 41, 51, 61, 71, 81, 91])"
      ]
     },
     "execution_count": 5,
     "metadata": {},
     "output_type": "execute_result"
    }
   ],
   "source": [
    "print(\"Array before conversion:\")\n",
    "arr=np.array([i for i in range(1,100,10)])\n",
    "print(\"Datatype:\", arr.dtype)\n",
    "arr\n"
   ]
  },
  {
   "cell_type": "code",
   "execution_count": 6,
   "metadata": {},
   "outputs": [
    {
     "name": "stdout",
     "output_type": "stream",
     "text": [
      "Array after conversion:\n",
      "Datatype: float32\n"
     ]
    },
    {
     "data": {
      "text/plain": [
       "array([ 1., 11., 21., 31., 41., 51., 61., 71., 81., 91.], dtype=float32)"
      ]
     },
     "execution_count": 6,
     "metadata": {},
     "output_type": "execute_result"
    }
   ],
   "source": [
    "print(\"Array after conversion:\")\n",
    "arr=np.array([i for i in range(1,100,10)],dtype=np.float32)\n",
    "print(\"Datatype:\", arr.dtype)\n",
    "arr\n"
   ]
  },
  {
   "cell_type": "markdown",
   "metadata": {},
   "source": [
    "\n",
    "5. Given a NumPy array 'arr' with float64 data type, convert it to float32 to reduce decimal precision.\n"
   ]
  },
  {
   "cell_type": "code",
   "execution_count": 7,
   "metadata": {},
   "outputs": [
    {
     "name": "stdout",
     "output_type": "stream",
     "text": [
      "Datatype: float64\n"
     ]
    },
    {
     "data": {
      "text/plain": [
       "array([0.55961328, 0.32692439, 0.78418168])"
      ]
     },
     "execution_count": 7,
     "metadata": {},
     "output_type": "execute_result"
    }
   ],
   "source": [
    "arr1=np.random.rand(3)\n",
    "print(\"Datatype:\", arr1.dtype)\n",
    "arr1\n"
   ]
  },
  {
   "cell_type": "code",
   "execution_count": 8,
   "metadata": {},
   "outputs": [
    {
     "data": {
      "text/plain": [
       "array([0.5596133 , 0.32692438, 0.78418165], dtype=float32)"
      ]
     },
     "execution_count": 8,
     "metadata": {},
     "output_type": "execute_result"
    }
   ],
   "source": [
    "arr1=arr1.astype(dtype=np.float32)\n",
    "arr1\n",
    "\n"
   ]
  },
  {
   "cell_type": "markdown",
   "metadata": {},
   "source": [
    "\n",
    "6. Write a function array_attributes that takes a NumPy array as input and returns its shape, size, and data\n",
    "type."
   ]
  },
  {
   "cell_type": "code",
   "execution_count": 9,
   "metadata": {},
   "outputs": [
    {
     "name": "stdout",
     "output_type": "stream",
     "text": [
      "Shape of array: (14, 7)\n",
      "Size of array: 98\n",
      "Datatype of array: int32\n"
     ]
    }
   ],
   "source": [
    "def array_attribute(arr):\n",
    "    return arr.shape, arr.size, arr.dtype\n",
    "arr=np.random.randint(2,10,(14,7))\n",
    "shape, size,datatype= array_attribute(arr)\n",
    "print(f\"Shape of array: {shape}\\nSize of array: {size}\\nDatatype of array: {datatype}\")"
   ]
  },
  {
   "cell_type": "markdown",
   "metadata": {},
   "source": [
    "\n",
    "7. Create a function array_dimension that takes a NumPy array as input and returns its dimensionality.\n"
   ]
  },
  {
   "cell_type": "code",
   "execution_count": 10,
   "metadata": {},
   "outputs": [
    {
     "name": "stdout",
     "output_type": "stream",
     "text": [
      "Dimension of array:2\n"
     ]
    }
   ],
   "source": [
    "def array_dimension(arr):\n",
    "    return arr.ndim\n",
    "arr=np.random.randint(1,20,(3,6))\n",
    "print(f\"Dimension of array:{array_dimension(arr)}\")\n"
   ]
  },
  {
   "cell_type": "markdown",
   "metadata": {},
   "source": [
    "\n",
    "\n",
    "8. Design a function item_size_info that takes a NumPy array as input and returns the item size and the total\n",
    "size in bytes.\n"
   ]
  },
  {
   "cell_type": "code",
   "execution_count": 11,
   "metadata": {},
   "outputs": [
    {
     "name": "stdout",
     "output_type": "stream",
     "text": [
      "Array:\n",
      "[[0.26815072 0.23843377 0.66537662 0.54103958 0.31037488 0.01680566]\n",
      " [0.20405656 0.11699722 0.6551349  0.45059784 0.26943743 0.95950039]\n",
      " [0.63990896 0.0427809  0.4830931  0.26960283 0.5472645  0.32096199]\n",
      " [0.25456068 0.93101152 0.32731197 0.88160402 0.47358797 0.34124703]\n",
      " [0.63850922 0.59589389 0.65891484 0.61107997 0.04247531 0.32402814]]\n",
      "Total size of array:30\n",
      "Total size in bytes:240\n"
     ]
    }
   ],
   "source": [
    "def item_size(arr):\n",
    "    return arr.size,arr.nbytes\n",
    "arr= np.random.rand(5,6)\n",
    "print(f\"Array:\\n{arr}\\nTotal size of array:{item_size(arr)[0]}\\nTotal size in bytes:{item_size(arr)[1]}\")"
   ]
  },
  {
   "cell_type": "markdown",
   "metadata": {},
   "source": [
    "9. Create a function array_strides that takes a NumPy array as input and returns the strides of the array."
   ]
  },
  {
   "cell_type": "code",
   "execution_count": 12,
   "metadata": {},
   "outputs": [
    {
     "data": {
      "text/plain": [
       "(16, 4)"
      ]
     },
     "execution_count": 12,
     "metadata": {},
     "output_type": "execute_result"
    }
   ],
   "source": [
    "class Array_Strides():\n",
    "    def array_strides(self, arr):\n",
    "        return arr.strides\n",
    "obj=Array_Strides()\n",
    "arr=np.random.randint(4,80,(6,4))\n",
    "obj.array_strides(arr)\n"
   ]
  },
  {
   "cell_type": "markdown",
   "metadata": {},
   "source": [
    "10. Design a function shape_stride_relationship that takes a NumPy array as input and returns the shape\n",
    "and strides of the array.\n"
   ]
  },
  {
   "cell_type": "code",
   "execution_count": 13,
   "metadata": {},
   "outputs": [
    {
     "name": "stdout",
     "output_type": "stream",
     "text": [
      "Array:\n",
      "[[27 12 45 41 31]\n",
      " [43 24 26 19 25]\n",
      " [27  6 33 44 36]\n",
      " [11 29 29 19 33]]\n",
      "Shape of array(4, 5)\n",
      "Strides of array:(20, 4)\n"
     ]
    }
   ],
   "source": [
    "class Shape_Stride_Relationship():\n",
    "    def shape_stride_relationship(self, arr):\n",
    "        return arr.shape , arr.strides\n",
    "obj= Shape_Stride_Relationship()\n",
    "arr=np.random.randint(4,50,(4,5))\n",
    "print(f\"Array:\\n{arr}\")\n",
    "print(f\"Shape of array{obj.shape_stride_relationship(arr)[0]}\\nStrides of array:{obj.shape_stride_relationship(arr)[1]}\")\n"
   ]
  },
  {
   "cell_type": "markdown",
   "metadata": {},
   "source": [
    "11. Create a function `create_zeros_array` that takes an integer `n` as input and returns a NumPy array of\n",
    "zeros with `n` elements.\n"
   ]
  },
  {
   "cell_type": "code",
   "execution_count": 14,
   "metadata": {},
   "outputs": [
    {
     "name": "stdout",
     "output_type": "stream",
     "text": [
      "Value of n:3\n",
      "Array:\n"
     ]
    },
    {
     "data": {
      "text/plain": [
       "array([0, 0, 0])"
      ]
     },
     "execution_count": 14,
     "metadata": {},
     "output_type": "execute_result"
    }
   ],
   "source": [
    "class Crate_Zeros_Array():\n",
    "    def create_zeros_array(self, n):\n",
    "        return np.zeros(n,dtype=int)\n",
    "obj=Crate_Zeros_Array()\n",
    "n=int(input(\"Enter the value of n:\"))\n",
    "print(f\"Value of n:{n}\\nArray:\")\n",
    "obj.create_zeros_array(n)"
   ]
  },
  {
   "cell_type": "markdown",
   "metadata": {},
   "source": [
    "12. Write a function `create_ones_matrix` that takes integers `rows` and `cols` as inputs and generates a 2D\n",
    "NumPy array filled with ones of size `rows x cols`.\n"
   ]
  },
  {
   "cell_type": "code",
   "execution_count": 15,
   "metadata": {},
   "outputs": [
    {
     "name": "stdout",
     "output_type": "stream",
     "text": [
      "Rows:3\n",
      "Colums:3\n"
     ]
    },
    {
     "data": {
      "text/plain": [
       "array([[1, 1, 1],\n",
       "       [1, 1, 1],\n",
       "       [1, 1, 1]])"
      ]
     },
     "execution_count": 15,
     "metadata": {},
     "output_type": "execute_result"
    }
   ],
   "source": [
    "class Create_Ones_Matrix():\n",
    "    def create_ones_matrix(self,rows, cols):\n",
    "        return np.ones([rows,cols], dtype=int)\n",
    "rows=int(input(\"Enter the rows:\"))\n",
    "cols=int(input(\"Enter the colums:\"))\n",
    "obj= Create_Ones_Matrix()\n",
    "print(f\"Rows:{rows}\\nColums:{cols}\")\n",
    "obj.create_ones_matrix(rows,cols)"
   ]
  },
  {
   "cell_type": "markdown",
   "metadata": {},
   "source": [
    "13. Write a function `generate_range_array` that takes three integers start, stop, and step as arguments and\n",
    "creates a NumPy array with a range starting from `start`, ending at stop (exclusive), and with the specified\n",
    "`step`.\n"
   ]
  },
  {
   "cell_type": "code",
   "execution_count": 16,
   "metadata": {},
   "outputs": [
    {
     "name": "stdout",
     "output_type": "stream",
     "text": [
      "Start:3\n",
      "Stop:3\n",
      "Step:3\n"
     ]
    },
    {
     "data": {
      "text/plain": [
       "array([], dtype=int32)"
      ]
     },
     "execution_count": 16,
     "metadata": {},
     "output_type": "execute_result"
    }
   ],
   "source": [
    "class Generate_range_array():\n",
    "    def generate_range_array(self, start, end, step):\n",
    "        return np.arange(start, end, step)\n",
    "obj = Generate_range_array()\n",
    "start=int(input(\"Enter start\"))\n",
    "stop=int(input(\"Enter stop\"))\n",
    "step=int(input(\"Enter step\"))\n",
    "print(f\"Start:{start}\\nStop:{stop}\\nStep:{step}\")\n",
    "obj.generate_range_array(start, stop, step)\n"
   ]
  },
  {
   "cell_type": "markdown",
   "metadata": {},
   "source": [
    "14. Design a function `generate_linear_space` that takes two floats `start`, `stop`, and an integer `num` as\n",
    "arguments and generates a NumPy array with num equally spaced values between `start` and `stop`\n",
    "(inclusive).\n",
    "\n"
   ]
  },
  {
   "cell_type": "code",
   "execution_count": 17,
   "metadata": {},
   "outputs": [
    {
     "name": "stdout",
     "output_type": "stream",
     "text": [
      "Start:3.0\n",
      "Stop:3.0\n",
      "Step:3\n"
     ]
    },
    {
     "data": {
      "text/plain": [
       "array([3., 3., 3.])"
      ]
     },
     "execution_count": 17,
     "metadata": {},
     "output_type": "execute_result"
    }
   ],
   "source": [
    "class Generate_Linera_Space():\n",
    "    def generate_linear_space(self, start, stop,num):\n",
    "        return np.linspace(start,stop,num)\n",
    "start=float(input(\"Enter Start\"))\n",
    "stop= float(input(\"Enter stop\"))\n",
    "num= int(input(\"Enter number\"))\n",
    "obj= Generate_Linera_Space()\n",
    "print(f\"Start:{start}\\nStop:{stop}\\nStep:{num}\")\n",
    "obj.generate_linear_space(start, stop, num)"
   ]
  },
  {
   "cell_type": "markdown",
   "metadata": {},
   "source": [
    "15. Create a function `create_identity_matrix` that takes an integer `n` as input and generates a square\n",
    "identity matrix of size `n x n` using `numpy.eye`.\n"
   ]
  },
  {
   "cell_type": "code",
   "execution_count": 18,
   "metadata": {},
   "outputs": [
    {
     "name": "stdout",
     "output_type": "stream",
     "text": [
      "Number:3\n"
     ]
    },
    {
     "data": {
      "text/plain": [
       "array([[1., 0., 0.],\n",
       "       [0., 1., 0.],\n",
       "       [0., 0., 1.]])"
      ]
     },
     "execution_count": 18,
     "metadata": {},
     "output_type": "execute_result"
    }
   ],
   "source": [
    "def create_identity_matrix(n):\n",
    "    return np.eye(n)\n",
    "n=int(input(\"Enter number\"))\n",
    "print(f\"Number:{n}\")\n",
    "create_identity_matrix(n)"
   ]
  },
  {
   "cell_type": "markdown",
   "metadata": {},
   "source": [
    "16. Write a function that takes a Python list and converts it into a NumPy array.\n",
    "\n"
   ]
  },
  {
   "cell_type": "code",
   "execution_count": 19,
   "metadata": {},
   "outputs": [
    {
     "data": {
      "text/plain": [
       "array([ 2,  8, 14, 20, 26, 32, 38, 44])"
      ]
     },
     "execution_count": 19,
     "metadata": {},
     "output_type": "execute_result"
    }
   ],
   "source": [
    "def list_into_array(l):\n",
    "    return np.asarray(l)\n",
    "list_into_array([i for i in range(2,50,6)])"
   ]
  },
  {
   "cell_type": "markdown",
   "metadata": {},
   "source": [
    "\n",
    "17. Create a NumPy array and demonstrate the use of `numpy.view` to create a new array object with the\n",
    "same data."
   ]
  },
  {
   "cell_type": "code",
   "execution_count": 20,
   "metadata": {},
   "outputs": [
    {
     "data": {
      "text/plain": [
       "array([1, 0, 2, 0, 3, 0, 4, 0, 5, 0, 6, 0, 7, 0], dtype=int16)"
      ]
     },
     "execution_count": 20,
     "metadata": {},
     "output_type": "execute_result"
    }
   ],
   "source": [
    "arr=np.asarray([i for i in range(1,8)])\n",
    "arr.dtype\n",
    "arr.view(np.int16)"
   ]
  },
  {
   "cell_type": "markdown",
   "metadata": {},
   "source": [
    "18. Write a function that takes two NumPy arrays and concatenates them along a specified axis."
   ]
  },
  {
   "cell_type": "code",
   "execution_count": 21,
   "metadata": {},
   "outputs": [
    {
     "data": {
      "text/plain": [
       "array([[25, 32, 11, 17],\n",
       "       [ 7, 41, 26,  5],\n",
       "       [ 5, 32, 21, 38],\n",
       "       [22, 42, 33, 40],\n",
       "       [25,  9, 38, 41],\n",
       "       [ 5, 15, 37, 37]])"
      ]
     },
     "execution_count": 21,
     "metadata": {},
     "output_type": "execute_result"
    }
   ],
   "source": [
    "def concat_array(arr1,arr2):\n",
    "    return np.concatenate([arr1,arr2],axis=0)\n",
    "arr1=np.random.randint(1,50,(3,4))\n",
    "arr2=np.random.randint(1,50,(3,4))\n",
    "concat_array(arr1,arr2)"
   ]
  },
  {
   "cell_type": "markdown",
   "metadata": {},
   "source": [
    "19. Create two NumPy arrays with different shapes and concatenate them horizontally using `numpy.concatenate`."
   ]
  },
  {
   "cell_type": "code",
   "execution_count": 22,
   "metadata": {},
   "outputs": [
    {
     "data": {
      "text/plain": [
       "array([[ 9,  5,  6, 58, 43, 83],\n",
       "       [ 1,  8,  6, 72,  8, 45],\n",
       "       [17, 15,  9, 45,  5, 59]])"
      ]
     },
     "execution_count": 22,
     "metadata": {},
     "output_type": "execute_result"
    }
   ],
   "source": [
    "def horizonatal_concat(arr1,arr2):\n",
    "    return np.concatenate([arr1,arr2],axis=1)\n",
    "arr1=np.random.randint(1,20,(3,3))\n",
    "arr2=np.random.randint(5,90,(3,3))\n",
    "horizonatal_concat(arr1,arr2)"
   ]
  },
  {
   "cell_type": "markdown",
   "metadata": {},
   "source": [
    "20. Write a function that vertically stacks multiple NumPy arrays given as a list."
   ]
  },
  {
   "cell_type": "code",
   "execution_count": 23,
   "metadata": {},
   "outputs": [
    {
     "name": "stdout",
     "output_type": "stream",
     "text": [
      "list1:[1, 2, 3, 4, 5]\n",
      "list2:[6, 7, 8, 9, 0]\n",
      "list3:[1, 2, 3, 4, 5, 6, 7]\n",
      "list4:[8, 9, 0]\n",
      "list5:[1, 2, 3, 4]\n",
      "After Concatenation vertically:\n"
     ]
    },
    {
     "data": {
      "text/plain": [
       "array([1., 2., 3., 4., 5., 6., 7., 8., 9., 0., 1., 2., 3., 4., 5., 6., 7.,\n",
       "       8., 9., 0., 1., 2., 3., 4.])"
      ]
     },
     "execution_count": 23,
     "metadata": {},
     "output_type": "execute_result"
    }
   ],
   "source": [
    "def vertical_stacked_list(*args):\n",
    "    arr=np.array([])\n",
    "    for i in args:\n",
    "        arr=np.concatenate([arr,np.array(i)],axis=0)\n",
    "    return arr\n",
    "list1=[1,2,3,4,5,]\n",
    "list2=[6,7,8,9,0]\n",
    "list3=[1,2,3,4,5,6,7]\n",
    "list4=[8,9,0]\n",
    "list5=[1,2,3,4]\n",
    "print(f\"list1:{list1}\\nlist2:{list2}\\nlist3:{list3}\\nlist4:{list4}\\nlist5:{list5}\\nAfter Concatenation vertically:\")\n",
    "vertical_stacked_list(list1,list2,list3,list4,list5)\n"
   ]
  },
  {
   "cell_type": "markdown",
   "metadata": {},
   "source": [
    "22. Write a Python function using NumPy to generate an array of 10 equally spaced values between 0 and 1\n",
    "(inclusive)."
   ]
  },
  {
   "cell_type": "code",
   "execution_count": 24,
   "metadata": {},
   "outputs": [
    {
     "data": {
      "text/plain": [
       "array([0.        , 0.11111111, 0.22222222, 0.33333333, 0.44444444,\n",
       "       0.55555556, 0.66666667, 0.77777778, 0.88888889, 1.        ])"
      ]
     },
     "execution_count": 24,
     "metadata": {},
     "output_type": "execute_result"
    }
   ],
   "source": [
    "def equally_spaced_array():\n",
    "    return np.linspace(0,1,10)\n",
    "equally_spaced_array()"
   ]
  },
  {
   "cell_type": "markdown",
   "metadata": {},
   "source": [
    "23. Write a Python function using NumPy to create an array of 5 logarithmically spaced values between 1 and\n",
    "1000 (inclusive)."
   ]
  },
  {
   "cell_type": "code",
   "execution_count": 25,
   "metadata": {},
   "outputs": [
    {
     "name": "stderr",
     "output_type": "stream",
     "text": [
      "C:\\Users\\msi\\AppData\\Local\\Packages\\PythonSoftwareFoundation.Python.3.11_qbz5n2kfra8p0\\LocalCache\\local-packages\\Python311\\site-packages\\numpy\\core\\function_base.py:298: RuntimeWarning: overflow encountered in power\n",
      "  return _nx.power(base, y)\n"
     ]
    },
    {
     "data": {
      "text/plain": [
       "array([1.00000000e+001, 5.62341325e+250,             inf,             inf,\n",
       "                   inf])"
      ]
     },
     "execution_count": 25,
     "metadata": {},
     "output_type": "execute_result"
    }
   ],
   "source": [
    "def log_space_value():\n",
    "    return np.logspace(1,1000,5,base=10)\n",
    "log_space_value()"
   ]
  },
  {
   "cell_type": "markdown",
   "metadata": {},
   "source": [
    "24. Create a Pandas DataFrame using a NumPy array that contains 5 rows and 3 columns, where the values\n",
    "are random integers between 1 and 100."
   ]
  },
  {
   "cell_type": "code",
   "execution_count": 26,
   "metadata": {},
   "outputs": [
    {
     "data": {
      "text/html": [
       "<div>\n",
       "<style scoped>\n",
       "    .dataframe tbody tr th:only-of-type {\n",
       "        vertical-align: middle;\n",
       "    }\n",
       "\n",
       "    .dataframe tbody tr th {\n",
       "        vertical-align: top;\n",
       "    }\n",
       "\n",
       "    .dataframe thead th {\n",
       "        text-align: right;\n",
       "    }\n",
       "</style>\n",
       "<table border=\"1\" class=\"dataframe\">\n",
       "  <thead>\n",
       "    <tr style=\"text-align: right;\">\n",
       "      <th></th>\n",
       "      <th>col1</th>\n",
       "      <th>col2</th>\n",
       "      <th>col3</th>\n",
       "    </tr>\n",
       "  </thead>\n",
       "  <tbody>\n",
       "    <tr>\n",
       "      <th>0</th>\n",
       "      <td>82</td>\n",
       "      <td>6</td>\n",
       "      <td>76</td>\n",
       "    </tr>\n",
       "    <tr>\n",
       "      <th>1</th>\n",
       "      <td>5</td>\n",
       "      <td>15</td>\n",
       "      <td>20</td>\n",
       "    </tr>\n",
       "    <tr>\n",
       "      <th>2</th>\n",
       "      <td>96</td>\n",
       "      <td>88</td>\n",
       "      <td>77</td>\n",
       "    </tr>\n",
       "    <tr>\n",
       "      <th>3</th>\n",
       "      <td>1</td>\n",
       "      <td>24</td>\n",
       "      <td>74</td>\n",
       "    </tr>\n",
       "    <tr>\n",
       "      <th>4</th>\n",
       "      <td>2</td>\n",
       "      <td>71</td>\n",
       "      <td>73</td>\n",
       "    </tr>\n",
       "  </tbody>\n",
       "</table>\n",
       "</div>"
      ],
      "text/plain": [
       "   col1  col2  col3\n",
       "0    82     6    76\n",
       "1     5    15    20\n",
       "2    96    88    77\n",
       "3     1    24    74\n",
       "4     2    71    73"
      ]
     },
     "execution_count": 26,
     "metadata": {},
     "output_type": "execute_result"
    }
   ],
   "source": [
    "pd.DataFrame(np.random.randint(1,100,(5,3)),columns=[\"col1\", \"col2\", \"col3\"])"
   ]
  },
  {
   "cell_type": "markdown",
   "metadata": {},
   "source": [
    "25. Write a function that takes a Pandas DataFrame and replaces all negative values in a specific column\n",
    "with zeros. Use NumPy operations within the Pandas DataFrame."
   ]
  },
  {
   "cell_type": "code",
   "execution_count": 27,
   "metadata": {},
   "outputs": [
    {
     "name": "stdout",
     "output_type": "stream",
     "text": [
      "DataFrame after removing negative number from specified column {col3}:\n"
     ]
    },
    {
     "data": {
      "text/html": [
       "<div>\n",
       "<style scoped>\n",
       "    .dataframe tbody tr th:only-of-type {\n",
       "        vertical-align: middle;\n",
       "    }\n",
       "\n",
       "    .dataframe tbody tr th {\n",
       "        vertical-align: top;\n",
       "    }\n",
       "\n",
       "    .dataframe thead th {\n",
       "        text-align: right;\n",
       "    }\n",
       "</style>\n",
       "<table border=\"1\" class=\"dataframe\">\n",
       "  <thead>\n",
       "    <tr style=\"text-align: right;\">\n",
       "      <th></th>\n",
       "      <th>col1</th>\n",
       "      <th>col2</th>\n",
       "      <th>col3</th>\n",
       "      <th>col4</th>\n",
       "      <th>col5</th>\n",
       "      <th>col6</th>\n",
       "    </tr>\n",
       "  </thead>\n",
       "  <tbody>\n",
       "    <tr>\n",
       "      <th>0</th>\n",
       "      <td>6</td>\n",
       "      <td>44</td>\n",
       "      <td>0.0</td>\n",
       "      <td>-19</td>\n",
       "      <td>44</td>\n",
       "      <td>16</td>\n",
       "    </tr>\n",
       "    <tr>\n",
       "      <th>1</th>\n",
       "      <td>-35</td>\n",
       "      <td>-17</td>\n",
       "      <td>0.0</td>\n",
       "      <td>39</td>\n",
       "      <td>-8</td>\n",
       "      <td>-28</td>\n",
       "    </tr>\n",
       "    <tr>\n",
       "      <th>2</th>\n",
       "      <td>-16</td>\n",
       "      <td>23</td>\n",
       "      <td>22.0</td>\n",
       "      <td>31</td>\n",
       "      <td>-3</td>\n",
       "      <td>15</td>\n",
       "    </tr>\n",
       "    <tr>\n",
       "      <th>3</th>\n",
       "      <td>-42</td>\n",
       "      <td>-37</td>\n",
       "      <td>0.0</td>\n",
       "      <td>-45</td>\n",
       "      <td>-46</td>\n",
       "      <td>-5</td>\n",
       "    </tr>\n",
       "    <tr>\n",
       "      <th>4</th>\n",
       "      <td>36</td>\n",
       "      <td>43</td>\n",
       "      <td>31.0</td>\n",
       "      <td>-31</td>\n",
       "      <td>40</td>\n",
       "      <td>-5</td>\n",
       "    </tr>\n",
       "    <tr>\n",
       "      <th>5</th>\n",
       "      <td>35</td>\n",
       "      <td>-32</td>\n",
       "      <td>0.0</td>\n",
       "      <td>44</td>\n",
       "      <td>28</td>\n",
       "      <td>17</td>\n",
       "    </tr>\n",
       "    <tr>\n",
       "      <th>6</th>\n",
       "      <td>-12</td>\n",
       "      <td>-9</td>\n",
       "      <td>15.0</td>\n",
       "      <td>-34</td>\n",
       "      <td>-15</td>\n",
       "      <td>23</td>\n",
       "    </tr>\n",
       "    <tr>\n",
       "      <th>7</th>\n",
       "      <td>-20</td>\n",
       "      <td>-35</td>\n",
       "      <td>0.0</td>\n",
       "      <td>-11</td>\n",
       "      <td>-36</td>\n",
       "      <td>2</td>\n",
       "    </tr>\n",
       "    <tr>\n",
       "      <th>8</th>\n",
       "      <td>-42</td>\n",
       "      <td>22</td>\n",
       "      <td>28.0</td>\n",
       "      <td>-40</td>\n",
       "      <td>27</td>\n",
       "      <td>37</td>\n",
       "    </tr>\n",
       "    <tr>\n",
       "      <th>9</th>\n",
       "      <td>33</td>\n",
       "      <td>-21</td>\n",
       "      <td>19.0</td>\n",
       "      <td>-12</td>\n",
       "      <td>29</td>\n",
       "      <td>-32</td>\n",
       "    </tr>\n",
       "  </tbody>\n",
       "</table>\n",
       "</div>"
      ],
      "text/plain": [
       "   col1  col2  col3  col4  col5  col6\n",
       "0     6    44   0.0   -19    44    16\n",
       "1   -35   -17   0.0    39    -8   -28\n",
       "2   -16    23  22.0    31    -3    15\n",
       "3   -42   -37   0.0   -45   -46    -5\n",
       "4    36    43  31.0   -31    40    -5\n",
       "5    35   -32   0.0    44    28    17\n",
       "6   -12    -9  15.0   -34   -15    23\n",
       "7   -20   -35   0.0   -11   -36     2\n",
       "8   -42    22  28.0   -40    27    37\n",
       "9    33   -21  19.0   -12    29   -32"
      ]
     },
     "execution_count": 27,
     "metadata": {},
     "output_type": "execute_result"
    }
   ],
   "source": [
    "def neg_val_replace(df):\n",
    "    df.col3=df[df>0].col3.fillna(0)\n",
    "    return df\n",
    "\n",
    "df=pd.DataFrame(np.random.randint(-50,50,(10,6)),columns=[\"col1\",\"col2\",\"col3\",\"col4\",\"col5\",\"col6\"])\n",
    "print(\"DataFrame after removing negative number from specified column {col3}:\")\n",
    "neg_val_replace(df)\n",
    "\n"
   ]
  },
  {
   "cell_type": "markdown",
   "metadata": {},
   "source": [
    "26. Access the 3rd element from the given NumPy array.\n",
    "    arr = np.array([10, 20, 30, 40, 50])"
   ]
  },
  {
   "cell_type": "code",
   "execution_count": 28,
   "metadata": {},
   "outputs": [
    {
     "name": "stdout",
     "output_type": "stream",
     "text": [
      "Third element: 30\n"
     ]
    }
   ],
   "source": [
    "arr = np.array([10, 20, 30, 40, 50])\n",
    "print(f\"Third element: {arr[2]}\")"
   ]
  },
  {
   "cell_type": "markdown",
   "metadata": {},
   "source": [
    "27. Retrieve the element at index (1, 2) from the 2D NumPy array.\n",
    "\n",
    "    arr_2d = np.array([[1, 2, 3],\n",
    "                   [4, 5, 6],\n",
    "                   [7, 8, 9]])"
   ]
  },
  {
   "cell_type": "code",
   "execution_count": 29,
   "metadata": {},
   "outputs": [
    {
     "data": {
      "text/plain": [
       "array([[4, 5, 6]])"
      ]
     },
     "execution_count": 29,
     "metadata": {},
     "output_type": "execute_result"
    }
   ],
   "source": [
    "arr_2d = np.array([[1, 2, 3],\n",
    "                   [4, 5, 6],\n",
    "                   [7, 8, 9]])\n",
    "arr_2d[1:2]"
   ]
  },
  {
   "cell_type": "markdown",
   "metadata": {},
   "source": [
    "28. Using boolean indexing, extract elements greater than 5 from the given NumPy array.\n",
    "\n",
    "    arr = np.array([3, 8, 2, 10, 5, 7])"
   ]
  },
  {
   "cell_type": "code",
   "execution_count": 30,
   "metadata": {},
   "outputs": [
    {
     "data": {
      "text/plain": [
       "array([ 8, 10,  7])"
      ]
     },
     "execution_count": 30,
     "metadata": {},
     "output_type": "execute_result"
    }
   ],
   "source": [
    "arr = np.array([3, 8, 2, 10, 5, 7])\n",
    "bool_index=arr>5\n",
    "arr[bool_index]"
   ]
  },
  {
   "cell_type": "markdown",
   "metadata": {},
   "source": [
    "29. Perform basic slicing to extract elements from index 2 to 5 (inclusive) from the given NumPy array.\n",
    "    \n",
    "    arr = np.array([1, 2, 3, 4, 5, 6, 7, 8, 9])"
   ]
  },
  {
   "cell_type": "code",
   "execution_count": 31,
   "metadata": {},
   "outputs": [
    {
     "data": {
      "text/plain": [
       "array([3, 4, 5, 6])"
      ]
     },
     "execution_count": 31,
     "metadata": {},
     "output_type": "execute_result"
    }
   ],
   "source": [
    "arr = np.array([1, 2, 3, 4, 5, 6, 7, 8, 9])\n",
    "arr[2:6]"
   ]
  },
  {
   "cell_type": "markdown",
   "metadata": {},
   "source": [
    "30. Slice the 2D NumPy array to extract the sub-array `[[2, 3], [5, 6]]` from the given array.\n",
    "\n",
    "     aarr_2d = np.array([[1, 2, 3],\n",
    "                         [4, 5, 6],\n",
    "                         [7, 8, 9]])"
   ]
  },
  {
   "cell_type": "code",
   "execution_count": 32,
   "metadata": {},
   "outputs": [
    {
     "data": {
      "text/plain": [
       "array([[2, 3],\n",
       "       [5, 6]])"
      ]
     },
     "execution_count": 32,
     "metadata": {},
     "output_type": "execute_result"
    }
   ],
   "source": [
    "aarr_2d = np.array([[1, 2, 3],\n",
    "                    [4, 5, 6],\n",
    "                    [7, 8, 9]])\n",
    "\n",
    "arr_2d[0:2,1:3]"
   ]
  },
  {
   "cell_type": "markdown",
   "metadata": {},
   "source": [
    "31. Write a NumPy function to extract elements in specific order from a given 2D array based on indices\n",
    "provided in another array."
   ]
  },
  {
   "cell_type": "code",
   "execution_count": 33,
   "metadata": {},
   "outputs": [
    {
     "name": "stdout",
     "output_type": "stream",
     "text": [
      "Array:-\n",
      "[[88, 50, 38, 95], [50, 42, 81, 11], [71, 55, 30, 29], [57, 23, 24, 92]]\n",
      "Index array:-\n",
      "[[0 1]\n",
      " [0 3]\n",
      " [3 1]]\n",
      "extracted element:-\n",
      "[50, 95, 23]\n"
     ]
    }
   ],
   "source": [
    "def extract_element(arr, index_arr):\n",
    "    l=[]\n",
    "    for i in index_arr:\n",
    "       l.append(arr[i[0],i[1]]) \n",
    "    return l\n",
    "\n",
    "arr=np.random.randint(1,100,(4,4))\n",
    "np.printoptions(\",\")\n",
    "index_arr=np.random.randint(0,4,(3,2))\n",
    "print(f\"Array:-\\n{arr.tolist()}\\nIndex array:-\\n{index_arr}\")\n",
    "print(f\"extracted element:-\\n{extract_element(arr,index_arr)}\")"
   ]
  },
  {
   "cell_type": "markdown",
   "metadata": {},
   "source": [
    "32. Create a NumPy function that filters elements greater than a threshold from a given 1D array using\n",
    "boolean indexing."
   ]
  },
  {
   "cell_type": "code",
   "execution_count": 34,
   "metadata": {},
   "outputs": [
    {
     "name": "stdout",
     "output_type": "stream",
     "text": [
      "Array:-\n",
      "[130, 77, 140, 179, 117, 146, 33, 14, 30, 39, 73, 172, 156, 92, 180, 196, 112, 103, 21, 54]\n",
      "\n",
      "Threshold:-194\n",
      "\n",
      "Filterd array:-\n"
     ]
    },
    {
     "data": {
      "text/plain": [
       "array([196])"
      ]
     },
     "execution_count": 34,
     "metadata": {},
     "output_type": "execute_result"
    }
   ],
   "source": [
    "def threshold_filter(arr,threshold):\n",
    "    bool_index=arr>threshold\n",
    "    return arr[bool_index]\n",
    "arr=np.random.randint(1,200,20)\n",
    "threshold=random.randint(1,200)\n",
    "print(f\"Array:-\\n{arr.tolist()}\\n\\nThreshold:-{threshold}\\n\\nFilterd array:-\")\n",
    "threshold_filter(arr,threshold)"
   ]
  },
  {
   "cell_type": "markdown",
   "metadata": {},
   "source": [
    "33. Develop a NumPy function that extracts specific elements from a 3D array using indices provided in three\n",
    "separate arrays for each dimension."
   ]
  },
  {
   "cell_type": "code",
   "execution_count": 35,
   "metadata": {},
   "outputs": [
    {
     "name": "stdout",
     "output_type": "stream",
     "text": [
      "3D Array:-\n",
      "array([[[120, 160,  44,  16],\n",
      "        [108,   6,  92,  78],\n",
      "        [ 99,  85, 132,  43]],\n",
      "\n",
      "       [[102, 157, 105, 157],\n",
      "        [179,  59, 119, 170],\n",
      "        [  4, 102, 190,  48]]])\n",
      "\n",
      "Index_arr:-\n",
      "array([[0, 0, 1],\n",
      "       [1, 0, 1],\n",
      "       [0, 0, 1],\n",
      "       [0, 0, 1]])\n",
      "\n",
      "Extracted values:-\n"
     ]
    },
    {
     "data": {
      "text/plain": [
       "[160, 157, 160, 160]"
      ]
     },
     "execution_count": 35,
     "metadata": {},
     "output_type": "execute_result"
    }
   ],
   "source": [
    "def extract_element_3d(arr,index_arr):\n",
    "    l=[]\n",
    "    for i in index_arr:\n",
    "        l.append(arr[i[0],i[1],i[2]])\n",
    "    return l\n",
    "arr=np.random.randint(1,200,(2,3,4))\n",
    "index_arr=np.random.randint(0,2,(4,3))\n",
    "print(f\"3D Array:-\\n{repr(arr)}\\n\\nIndex_arr:-\\n{repr(index_arr)}\\n\\nExtracted values:-\")\n",
    "extract_element_3d(arr,index_arr)\n"
   ]
  },
  {
   "cell_type": "markdown",
   "metadata": {},
   "source": [
    "34. Write a NumPy function that returns elements from an array where both two conditions are satisfied\n",
    "using boolean indexing."
   ]
  },
  {
   "cell_type": "code",
   "execution_count": 36,
   "metadata": {},
   "outputs": [
    {
     "name": "stdout",
     "output_type": "stream",
     "text": [
      "array([289, 434,  40, 446, 252, 380, 255, 490,  13, 456, 238, 193, 220,\n",
      "       441, 178, 218,   5, 446, 467, 351, 306, 429, 133, 370, 460, 405,\n",
      "        35,  24, 298, 329,  57, 361,  13, 406, 362, 393, 224, 288])\n",
      "\n",
      "min:199\n",
      "max:430\n",
      "\n",
      "Values bitween min value and max value:\n"
     ]
    },
    {
     "data": {
      "text/plain": [
       "array([289, 252, 380, 255, 238, 220, 218, 351, 306, 429, 370, 405, 298,\n",
       "       329, 361, 406, 362, 393, 224, 288])"
      ]
     },
     "execution_count": 36,
     "metadata": {},
     "output_type": "execute_result"
    }
   ],
   "source": [
    "def bool_indexing_arr(arr, minn,maxx):\n",
    "    bool_index=(arr>minn ) & (arr<maxx)\n",
    "    arr=arr[bool_index]\n",
    "    return arr\n",
    "\n",
    "arr=np.random.randint(1,500,38)\n",
    "maxx=random.randint(400,500)\n",
    "minn=random.randint(1,200)\n",
    "bool_index=(arr>minn ) & (arr<maxx)\n",
    "print(repr(arr))\n",
    "print(f\"\\nmin:{minn}\\nmax:{maxx}\")\n",
    "print(\"\\nValues bitween min value and max value:\")\n",
    "bool_indexing_arr(arr,minn,maxx)"
   ]
  },
  {
   "cell_type": "markdown",
   "metadata": {},
   "source": [
    "35. Create a NumPy function that extracts elements from a 2D array using row and column indices provided\n",
    "in separate arrays."
   ]
  },
  {
   "cell_type": "code",
   "execution_count": 37,
   "metadata": {},
   "outputs": [
    {
     "name": "stdout",
     "output_type": "stream",
     "text": [
      "array([[0.05096147, 0.50808148, 0.50693369, 0.68922958],\n",
      "       [0.71039359, 0.23577722, 0.63275073, 0.42466144],\n",
      "       [0.1713482 , 0.44052029, 0.21736401, 0.559521  ],\n",
      "       [0.12396713, 0.64420741, 0.73929696, 0.3162054 ]])\n",
      "Index array:\n",
      "array([[1, 0],\n",
      "       [0, 0],\n",
      "       [1, 1],\n",
      "       [1, 0]])\n"
     ]
    },
    {
     "data": {
      "text/plain": [
       "[0.7103935918922396,\n",
       " 0.05096146728423656,\n",
       " 0.23577722489710473,\n",
       " 0.7103935918922396]"
      ]
     },
     "execution_count": 37,
     "metadata": {},
     "output_type": "execute_result"
    }
   ],
   "source": [
    "def ele_from_2darray(arr,index_arr):\n",
    "    l=[]\n",
    "    for i in index_arr:\n",
    "        l.append(arr[i[0],i[1]])\n",
    "    return l\n",
    "arr=np.random.rand(4,4)\n",
    "index_arr=np.random.randint(0,3,(4,2))\n",
    "print(f\"{repr(arr)}\\nIndex array:\\n{repr(index_arr)}\")\n",
    "ele_from_2darray(arr,index_arr)\n"
   ]
  },
  {
   "cell_type": "markdown",
   "metadata": {},
   "source": [
    "36. Given an array arr of shape (3, 3), add a scalar value of 5 to each element using NumPy broadcasting."
   ]
  },
  {
   "cell_type": "code",
   "execution_count": 38,
   "metadata": {},
   "outputs": [
    {
     "name": "stdout",
     "output_type": "stream",
     "text": [
      "Origonal Array:\n",
      "array([[121,  69,  74],\n",
      "       [194, 188,  20],\n",
      "       [ 34,  78, 177]])\n",
      "After adding 5 in each element:\n",
      "array([[126,  74,  79],\n",
      "       [199, 193,  25],\n",
      "       [ 39,  83, 182]])\n"
     ]
    }
   ],
   "source": [
    "arr=np.random.randint(1,200,(3,3))\n",
    "arr1=arr+5\n",
    "print(f\"Origonal Array:\\n{repr(arr)}\\nAfter adding 5 in each element:\\n{repr(arr1)}\")"
   ]
  },
  {
   "cell_type": "markdown",
   "metadata": {},
   "source": [
    "37. Consider two arrays arr1 of shape (1, 3) and arr2 of shape (3, 4). Multiply each row of arr2 by the\n",
    "corresponding element in arr1 using NumPy broadcasting."
   ]
  },
  {
   "cell_type": "code",
   "execution_count": 39,
   "metadata": {},
   "outputs": [
    {
     "name": "stdout",
     "output_type": "stream",
     "text": [
      "Array1:-\n",
      "array([[2, 3, 2]])\n",
      "Array2:-\n",
      "array([[4, 2, 4, 2],\n",
      "       [2, 5, 3, 5],\n",
      "       [2, 4, 5, 2]])\n",
      "Resultant array:-\n",
      "array([[ 8,  4,  8,  4],\n",
      "       [ 6, 15,  9, 15],\n",
      "       [ 4,  8, 10,  4]])\n"
     ]
    }
   ],
   "source": [
    "arr1=np.random.randint(1,4,(1,3))\n",
    "arr2=np.random.randint(2,6,(3,4))\n",
    "l=[]\n",
    "for i in range(len(arr2)):\n",
    "    l.append(arr2[i]*arr1[0][i])\n",
    "print(f\"Array1:-\\n{repr(arr1)}\\nArray2:-\\n{repr(arr2)}\\nResultant array:-\\n{repr(np.array(l))}\")\n",
    "\n"
   ]
  },
  {
   "cell_type": "markdown",
   "metadata": {},
   "source": [
    "38. Given a 1D array arr1 of shape (1, 4) and a 2D array arr2 of shape (4, 3), add arr1 to each row of arr2 using\n",
    "NumPy broadcasting.\n"
   ]
  },
  {
   "cell_type": "code",
   "execution_count": 40,
   "metadata": {},
   "outputs": [
    {
     "name": "stdout",
     "output_type": "stream",
     "text": [
      "Array1:-\n",
      "array([14, 42, 18, 31])\n",
      "Array2:-\n",
      "array([[ 9, 37, 17],\n",
      "       [ 1, 46,  6],\n",
      "       [ 4, 47,  9],\n",
      "       [ 2, 23, 20]])\n",
      "Resultant array:-\n",
      "array([[23, 51, 31],\n",
      "       [43, 88, 48],\n",
      "       [22, 65, 27],\n",
      "       [33, 54, 51]])\n"
     ]
    }
   ],
   "source": [
    "arr1=np.random.randint(1,50,4)\n",
    "arr2=np.random.randint(1,50,(4,3))\n",
    "result=[]\n",
    "for i in range(len(arr2)):\n",
    "    result.append(arr2[i]+arr1[i])\n",
    "print(f\"Array1:-\\n{repr(arr1)}\\nArray2:-\\n{repr(arr2)}\\nResultant array:-\\n{repr(np.array(result))}\")"
   ]
  },
  {
   "cell_type": "markdown",
   "metadata": {},
   "source": [
    "39. Consider two arrays arr1 of shape (3, 1) and arr2 of shape (1, 3). Add these arrays using NumPy\n",
    "broadcasting."
   ]
  },
  {
   "cell_type": "code",
   "execution_count": 41,
   "metadata": {},
   "outputs": [
    {
     "name": "stdout",
     "output_type": "stream",
     "text": [
      "Array 1 :\n",
      "array([[34],\n",
      "       [31],\n",
      "       [45]])\n",
      "\n",
      "Array 2 :\n",
      "array([[ 4, 11,  6]])\n",
      "\n",
      "Using numpy broadcasting: \n",
      "array([[38, 45, 40],\n",
      "       [35, 42, 37],\n",
      "       [49, 56, 51]])\n"
     ]
    }
   ],
   "source": [
    "arr1 = np.random.randint(1,50,(3,1))\n",
    "arr2 = np.random.randint(1,20,(1,3))\n",
    "print(f\"Array 1 :\\n{repr(arr1)}\\n\\nArray 2 :\\n{repr(arr2)}\\n\\nUsing numpy broadcasting: \\n{repr(arr1+arr2)}\")"
   ]
  },
  {
   "cell_type": "markdown",
   "metadata": {},
   "source": [
    "40. Given arrays arr1 of shape (2, 3) and arr2 of shape (2, 2), perform multiplication using NumPy\n",
    "broadcasting. Handle the shape incompatibility."
   ]
  },
  {
   "cell_type": "code",
   "execution_count": 4,
   "metadata": {},
   "outputs": [
    {
     "name": "stdout",
     "output_type": "stream",
     "text": [
      "Array 1 :\n",
      "array([[27, 32, 46],\n",
      "       [44, 23,  5]])\n",
      "\n",
      "Array 2 :\n",
      "array([[ 1, 18],\n",
      "       [18, 14]])\n",
      "\n",
      "After reshaping & numPy broadcasting:\n"
     ]
    },
    {
     "data": {
      "text/plain": [
       "array([[ 27, 486, 486, 378],\n",
       "       [ 32, 576, 576, 448],\n",
       "       [ 46, 828, 828, 644],\n",
       "       [ 44, 792, 792, 616],\n",
       "       [ 23, 414, 414, 322],\n",
       "       [  5,  90,  90,  70]])"
      ]
     },
     "execution_count": 4,
     "metadata": {},
     "output_type": "execute_result"
    }
   ],
   "source": [
    "arr1 = np.random.randint(1,50,(2,3))\n",
    "arr2 = np.random.randint(1,20,(2,2))\n",
    "print(f\"Array 1 :\\n{repr(arr1)}\\n\\nArray 2 :\\n{repr(arr2)}\")\n",
    "arr1=np.reshape(arr1,(-1,1))\n",
    "arr2= np.reshape(arr2,(1,-1))\n",
    "print(\"\\nAfter reshaping & numPy broadcasting:\")\n",
    "arr1*arr2\n",
    "\n"
   ]
  },
  {
   "cell_type": "markdown",
   "metadata": {},
   "source": [
    "41. Calculate column-wise mean for the given array:   \n",
    "    arr = np.array([[1, 2, 3], [4, 5, 6]])"
   ]
  },
  {
   "cell_type": "code",
   "execution_count": 38,
   "metadata": {},
   "outputs": [
    {
     "name": "stdout",
     "output_type": "stream",
     "text": [
      "Array:\n",
      "array([[1, 2, 3],\n",
      "       [4, 5, 6]])\n",
      "Column wise mean:\n",
      "array([2.5, 3.5, 4.5])\n"
     ]
    }
   ],
   "source": [
    "arr = np.array([[1, 2, 3], [4, 5, 6]])\n",
    "arr=arr.T\n",
    "list=[]\n",
    "for i in arr:\n",
    "    list.append(i.mean())\n",
    "print(f\"Array:\\n{repr(arr.T)}\\nColumn wise mean:\\n{repr(np.asarray(list))}\")"
   ]
  },
  {
   "cell_type": "markdown",
   "metadata": {},
   "source": [
    "42. Find maximum value in each row of the given array:   \n",
    "    arr = np.array([[1, 2, 3], [4, 5, 6]])"
   ]
  },
  {
   "cell_type": "code",
   "execution_count": 39,
   "metadata": {},
   "outputs": [
    {
     "name": "stdout",
     "output_type": "stream",
     "text": [
      "Array:\n",
      "array([[1, 2, 3],\n",
      "       [4, 5, 6]])\n",
      "Maximun value in each row:\n",
      "array([3, 6])\n"
     ]
    }
   ],
   "source": [
    "arr = np.array([[1, 2, 3], [4, 5, 6]])\n",
    "list=[]\n",
    "for i in arr:\n",
    "    list.append(np.max(i))\n",
    "print(f\"Array:\\n{repr(arr)}\\nMaximun value in each row:\\n{repr(np.asarray(list))}\")"
   ]
  },
  {
   "cell_type": "markdown",
   "metadata": {},
   "source": [
    "43.  For the given array, find indices of maximum value in each column.   \n",
    "      arr = np.array([[1, 2, 3], [4, 5, 6]])"
   ]
  },
  {
   "cell_type": "code",
   "execution_count": null,
   "metadata": {},
   "outputs": [],
   "source": [
    " "
   ]
  },
  {
   "cell_type": "markdown",
   "metadata": {},
   "source": []
  },
  {
   "cell_type": "markdown",
   "metadata": {},
   "source": [
    "43.  For the given array, find indices of maximum value in each column.   \n",
    "      arr = np.array([[1, 2, 3], [4, 5, 6]])"
   ]
  },
  {
   "cell_type": "markdown",
   "metadata": {},
   "source": [
    "44. For the given array, apply custom function to calculate moving sum along rows.   \n",
    "    arr = np.array([[1, 2, 3], [4, 5, 6]])"
   ]
  },
  {
   "cell_type": "markdown",
   "metadata": {},
   "source": [
    "45.  In the given array, check  if all elements in each column are even. \n",
    "        arr = np.array([[2, 4, 6], [3, 5, 7]])"
   ]
  },
  {
   "cell_type": "markdown",
   "metadata": {},
   "source": [
    "\n",
    "\n",
    "\n",
    "\n",
    "\n",
    "\n",
    "\n",
    "\n",
    "46. Given a NumPy array arr, reshape it into a matrix of dimensions `m` rows and `n` columns. Return the \n",
    "reshaped matrix. \n",
    "    original_array = np.array([1, 2, 3, 4, 5, 6])\n",
    "\n",
    "\n",
    "47. Create a function that takes a matrix as input and returns the flattened array.   \n",
    "    input_matrix = np.array([[1, 2, 3], [4, 5, 6]])\n",
    "    \n",
    "\n",
    "\n",
    "48. Write a function that concatenates two given arrays along a specified axis. \n",
    "\n",
    "\n",
    "\n",
    "    array1 = np.array([[1, 2], [3, 4]]) \n",
    "    array2 = np.array([[5, 6], [7, 8]])\n",
    "\n",
    "49. Create a function that splits an array into multiple sub-arrays along a specified axis. \n",
    "    original_array = np.array([[1, 2, 3], [4, 5, 6], [7, 8, 9]])\n",
    "\n",
    "50. Write a function that inserts and then deletes elements from a given array at specified indices. \n",
    "    original_array = np.array([1, 2, 3, 4, 5]) indices_to_insert = [2, 4] \n",
    "values_to_insert = [10, 11] \n",
    "indices_to_delete = [1, 3]\n",
    "     \n",
    "51. Create a NumPy array `arr1` with random integers and another array `arr2` with integers from 1 to 10. \n",
    "Perform element-wise addition between `arr1` and `arr2`.  \n",
    "\n",
    "52. Generate a NumPy array `arr1` with sequential integers from 10 to 1 and another array `arr2` with integers \n",
    "from 1 to 10. Subtract `arr2` from `arr1` element-wise.  \n",
    "53. Create a NumPy array `arr1` with random integers and another array `arr2` with integers from 1 to 5. \n",
    "Perform element-wise multiplication between `arr1` and `arr2`.  \n",
    "54. Generate a NumPy array `arr1` with even integers from 2 to 10 and another array `arr2` with integers from 1 \n",
    "to 5. Perform element-wise division of `arr1` by `arr2`.  \n",
    "55. Create a NumPy array `arr1` with integers from 1 to 5 and another array `arr2` with the same numbers \n",
    "reversed. Calculate the exponentiation of `arr1` raised to the power of `arr2` element-wise.  \n",
    "56. Write a function that counts the occurrences of a specific substring within a NumPy array of strings.\n",
    "arr = np.array(['hello', 'world', 'hello', 'numpy', 'hello']) \n",
    "57. Write a function that extracts uppercase characters from a NumPy array of strings. \n",
    "arr = np.array(['Hello', 'World', 'OpenAI', 'GPT'])  \n"
   ]
  },
  {
   "cell_type": "markdown",
   "metadata": {},
   "source": [
    "58. Write a function that replaces occurrences of a substring in a NumPy array of strings with a new string. \n",
    "arr = np.array(['apple', 'banana', 'grape', 'pineapple'])  \n",
    "59. Write a function that concatenates strings in a NumPy array element-wise.    \n",
    "arr1 = np.array(['Hello', 'World']) \n",
    "arr2 = np.array(['Open', 'AI'])\n",
    "\n",
    "60. Write a function that finds the length of the longest string in a NumPy array. \n",
    "arr = np.array(['apple', 'banana', 'grape', 'pineapple'])   \n",
    "61. Create a dataset of 100 random integers between 1 and 1000. Compute the mean, median, variance, and \n",
    "standard deviation of the dataset using NumPy's functions.  \n",
    "62. Generate an array of 50 random numbers between 1 and 100. Find the 25th and 75th percentiles of the \n",
    "dataset.  \n",
    "63. Create two arrays representing two sets of variables. Compute the correlation coefficient between these \n",
    "arrays using NumPy's `corrcoef` function.  \n",
    "64. Create two matrices and perform matrix multiplication using NumPy's `dot` function.  \n",
    "65. Create an array of 50 integers between 10 and 1000. Calculate the 10th, 50th (median), and 90th \n",
    "percentiles along with the first and third quartiles.  \n",
    "66. Create a NumPy array of integers and find the index of a specific element.  \n",
    "67. Generate a random NumPy array and sort it in ascending order.  \n",
    "68. Filter elements >20  in the given NumPy array.\n",
    "\n",
    "arr = np.array([12, 25, 6, 42, 8, 30])    \n",
    "69. Filter elements which are divisible by 3 from a given NumPy array.   \n",
    "arr = np.array([1, 5, 8, 12, 15])\n",
    "70. Filter elements which are ≥ 20 and ≤ 40 from a given NumPy array.   \n",
    "arr = np.array([10, 20, 30, 40, 50])\n",
    "71. For the given NumPy array, check its byte order using the `dtype` attribute byteorder. \n",
    "\n",
    "arr = np.array([1, 2, 3])\n",
    "\n",
    "72. For the given NumPy array, perform byte swapping in place using `byteswap()`.   \n",
    "arr = np.array([1, 2, 3], dtype=np.int32)\n",
    "\n",
    "73. For the given NumPy array, swap its byte order without modifying the original array using \n",
    "`newbyteorder()`.\n",
    "arr = np.array([1, 2, 3], dtype=np.int32  ) \n",
    "74. For the given NumPy array and swap its byte order conditionally based on system endianness using \n",
    "`newbyteorder()`.   \n",
    "arr = np.array([1, 2, 3], dtype=np.int32)\n",
    "75. For the given NumPy array, check if byte swapping is necessary for the current system using `dtype` \n",
    "attribute `byteorder`.   \n",
    "arr = np.array([1, 2, 3], dtype=np.int32)\n",
    "76. Create a NumPy array `arr1` with values from 1 to 10. Create a copy of `arr1` named `copy_arr` and modify \n",
    "an element in `copy_arr`. Check if modifying `copy_arr` affects `arr1`.  \n",
    "77. Create a 2D NumPy array `matrix` of shape (3, 3) with random integers. Extract a slice `view_slice` from \n",
    "the matrix. Modify an element in `view_slice` and observe if it changes the original `matrix`.  \n",
    "78. Create a NumPy array `array_a` of shape (4, 3) with sequential integers from 1 to 12. Extract a slice \n",
    "`view_b` from `array_a` and broadcast the addition of 5 to view_b. Check if it alters the original `array_a`.  \n",
    "79. Create a NumPy array `orig_array` of shape (2, 4) with values from 1 to 8. Create a reshaped view \n",
    "`reshaped_view` of shape (4, 2) from orig_array. Modify an element in `reshaped_view` and check if it \n",
    "reflects changes in the original `orig_array`.  \n",
    "80. Create a NumPy array `data` of shape (3, 4) with random integers. Extract a copy `data_copy` of \n",
    "elements greater than 5. Modify an element in `data_copy` and verify if it affects the original `data`.  \n",
    "81. Create two matrices A and B of identical shape containing integers and perform addition and subtraction \n",
    "operations between them.  \n",
    "82. Generate two matrices `C` (3x2) and `D` (2x4) and perform matrix multiplication.  \n",
    "83. Create a matrix `E` and find its transpose.  \n",
    "84. Generate a square matrix `F` and compute its determinant.  \n",
    "85. Create a square matrix `G` and find its inverse. \n",
    "\n"
   ]
  },
  {
   "cell_type": "code",
   "execution_count": null,
   "metadata": {},
   "outputs": [
    {
     "data": {
      "text/plain": [
       "matrix([], shape=(1, 0), dtype=float64)"
      ]
     },
     "execution_count": 56,
     "metadata": {},
     "output_type": "execute_result"
    }
   ],
   "source": [
    "G=nm.matrix([])\n",
    "G"
   ]
  },
  {
   "cell_type": "code",
   "execution_count": null,
   "metadata": {},
   "outputs": [],
   "source": []
  },
  {
   "cell_type": "code",
   "execution_count": null,
   "metadata": {},
   "outputs": [],
   "source": []
  }
 ],
 "metadata": {
  "kernelspec": {
   "display_name": "Python 3",
   "language": "python",
   "name": "python3"
  },
  "language_info": {
   "codemirror_mode": {
    "name": "ipython",
    "version": 3
   },
   "file_extension": ".py",
   "mimetype": "text/x-python",
   "name": "python",
   "nbconvert_exporter": "python",
   "pygments_lexer": "ipython3",
   "version": "3.11.9"
  }
 },
 "nbformat": 4,
 "nbformat_minor": 2
}
